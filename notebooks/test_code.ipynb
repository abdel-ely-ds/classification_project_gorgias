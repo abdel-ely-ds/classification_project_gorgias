{
 "cells": [
  {
   "cell_type": "code",
   "execution_count": 1,
   "id": "08760ca5-7e9d-4dd4-8386-470c20086f83",
   "metadata": {},
   "outputs": [
    {
     "ename": "ModuleNotFoundError",
     "evalue": "No module named 'gorgias_ml'",
     "output_type": "error",
     "traceback": [
      "\u001b[1;31m---------------------------------------------------------------------------\u001b[0m",
      "\u001b[1;31mModuleNotFoundError\u001b[0m                       Traceback (most recent call last)",
      "Cell \u001b[1;32mIn[1], line 1\u001b[0m\n\u001b[1;32m----> 1\u001b[0m \u001b[38;5;28;01mimport\u001b[39;00m \u001b[38;5;21;01mgorgias_ml\u001b[39;00m\n",
      "\u001b[1;31mModuleNotFoundError\u001b[0m: No module named 'gorgias_ml'"
     ]
    }
   ],
   "source": [
    "from gorgias_ml.cleaners import EmbeddingsCleaner\n",
    "from gorgias_ml.encoders import TicketMessageAverageEncoder\n",
    "from gorgias_ml.models import TicketMessageSimilarityBasedClassifier\n",
    "from gorgias_ml.constants import PREDICTION\n",
    "import pandas as pd\n",
    "\n",
    "\n",
    "df = pd.read_parquet(\"data/classification_dataset\")\n",
    "df = df[~df.email_sentence_embeddings.isna()]\n",
    "df = df.sample(10)\n",
    "\n",
    "encoder = TicketMessageAverageEncoder()\n",
    "cleaner = EmbeddingsCleaner()\n",
    "model = TicketMessageSimilarityBasedClassifier()\n",
    "\n",
    "x = encoder.fit_transform(\n",
    "    cleaner.fit_transform(\n",
    "        df\n",
    "    )\n",
    ")\n",
    "\n",
    "model.fit(x, x.contact_reason)\n",
    "print(model.predict(x)[PREDICTION])"
   ]
  },
  {
   "cell_type": "code",
   "execution_count": null,
   "id": "a151002f-ef1f-4a72-b794-83b3dadd332f",
   "metadata": {},
   "outputs": [],
   "source": []
  }
 ],
 "metadata": {
  "kernelspec": {
   "display_name": "Python 3 (ipykernel)",
   "language": "python",
   "name": "python3"
  },
  "language_info": {
   "codemirror_mode": {
    "name": "ipython",
    "version": 3
   },
   "file_extension": ".py",
   "mimetype": "text/x-python",
   "name": "python",
   "nbconvert_exporter": "python",
   "pygments_lexer": "ipython3",
   "version": "3.10.11"
  }
 },
 "nbformat": 4,
 "nbformat_minor": 5
}
